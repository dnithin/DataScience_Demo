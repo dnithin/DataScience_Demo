{
  "nbformat": 4,
  "nbformat_minor": 0,
  "metadata": {
    "colab": {
      "provenance": [],
      "toc_visible": true,
      "authorship_tag": "ABX9TyNPXEcAlSpmo4dpat8WMEVc",
      "include_colab_link": true
    },
    "kernelspec": {
      "name": "python3",
      "display_name": "Python 3"
    },
    "language_info": {
      "name": "python"
    }
  },
  "cells": [
    {
      "cell_type": "markdown",
      "metadata": {
        "id": "view-in-github",
        "colab_type": "text"
      },
      "source": [
        "<a href=\"https://colab.research.google.com/github/dnithin/DataScience_Demo/blob/main/DS_Notebook.ipynb\" target=\"_parent\"><img src=\"https://colab.research.google.com/assets/colab-badge.svg\" alt=\"Open In Colab\"/></a>"
      ]
    },
    {
      "cell_type": "markdown",
      "source": [
        "##Ingest"
      ],
      "metadata": {
        "id": "8Fvu2l3Ihx9b"
      }
    },
    {
      "cell_type": "code",
      "execution_count": null,
      "metadata": {
        "id": "G8l1EsOIha3K"
      },
      "outputs": [],
      "source": []
    },
    {
      "cell_type": "markdown",
      "source": [
        "##EDA"
      ],
      "metadata": {
        "id": "rMNv3i-Ph3P9"
      }
    },
    {
      "cell_type": "code",
      "source": [],
      "metadata": {
        "id": "EqabgnETh8D5"
      },
      "execution_count": null,
      "outputs": []
    },
    {
      "cell_type": "markdown",
      "source": [
        "##Modelling"
      ],
      "metadata": {
        "id": "-tSP8LRdh-HN"
      }
    },
    {
      "cell_type": "code",
      "source": [],
      "metadata": {
        "id": "6MeJm4e6iEnb"
      },
      "execution_count": null,
      "outputs": []
    },
    {
      "cell_type": "markdown",
      "source": [
        "##Conclusion"
      ],
      "metadata": {
        "id": "nyymsoK-iFyB"
      }
    },
    {
      "cell_type": "code",
      "source": [],
      "metadata": {
        "id": "-jLoHxYOiJnL"
      },
      "execution_count": null,
      "outputs": []
    }
  ]
}